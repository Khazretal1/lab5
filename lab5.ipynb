{
 "cells": [
  {
   "cell_type": "code",
   "execution_count": 1,
   "metadata": {},
   "outputs": [
    {
     "name": "stdout",
     "output_type": "stream",
     "text": [
      "['abb']\n"
     ]
    }
   ],
   "source": [
    "import re\n",
    "\n",
    "txt = input()\n",
    "x = re.findall(r\"ab*\", txt)\n",
    "print(x)"
   ]
  },
  {
   "cell_type": "code",
   "execution_count": 5,
   "metadata": {},
   "outputs": [
    {
     "name": "stdout",
     "output_type": "stream",
     "text": [
      "<re.Match object; span=(0, 3), match='abb'>\n"
     ]
    }
   ],
   "source": [
    "import re\n",
    "\n",
    "txt = input()\n",
    "x = re.fullmatch(r\"ab{2,3}\", txt)\n",
    "print(x)"
   ]
  },
  {
   "cell_type": "code",
   "execution_count": 14,
   "metadata": {},
   "outputs": [
    {
     "name": "stdout",
     "output_type": "stream",
     "text": [
      "['hello_friend', 'my_friend', 'this_is']\n"
     ]
    }
   ],
   "source": [
    "import re\n",
    "\n",
    "txt = input()\n",
    "pattern = r\"\\b[a-z]+_[a-z]+\\b\"\n",
    "x = re.findall(pattern, txt)\n",
    "print(x)"
   ]
  },
  {
   "cell_type": "code",
   "execution_count": null,
   "metadata": {},
   "outputs": [
    {
     "name": "stdout",
     "output_type": "stream",
     "text": [
      "['Hello']\n"
     ]
    }
   ],
   "source": [
    "import re\n",
    "\n",
    "txt = input()\n",
    "pattern = r\"\\b[A-Z][a-z]+\\b\"\n",
    "x = re.findall(pattern, txt)\n",
    "print(x)"
   ]
  },
  {
   "cell_type": "code",
   "execution_count": 18,
   "metadata": {},
   "outputs": [
    {
     "name": "stdout",
     "output_type": "stream",
     "text": [
      "['allb']\n"
     ]
    }
   ],
   "source": [
    "import re\n",
    "\n",
    "txt = input()\n",
    "pattern = r\"a.*b$\"\n",
    "x = re.findall(pattern, txt)\n",
    "print(x)"
   ]
  },
  {
   "cell_type": "code",
   "execution_count": 20,
   "metadata": {},
   "outputs": [
    {
     "name": "stdout",
     "output_type": "stream",
     "text": [
      "hello::my:friend\n"
     ]
    }
   ],
   "source": [
    "import re\n",
    "\n",
    "txt = input()\n",
    "x = re.sub(r\"[ .,]\", \":\", txt)\n",
    "print(x)"
   ]
  },
  {
   "cell_type": "code",
   "execution_count": 24,
   "metadata": {},
   "outputs": [
    {
     "name": "stdout",
     "output_type": "stream",
     "text": [
      "helloHelloMyFriend\n"
     ]
    }
   ],
   "source": [
    "import re\n",
    "\n",
    "txt = input(\"Enter a snake case string(ex: this_is_snake): \")\n",
    "words = txt.split('_')\n",
    "x = words[0] + ''.join(word.capitalize() for word in words)\n",
    "print(x)"
   ]
  },
  {
   "cell_type": "code",
   "execution_count": 27,
   "metadata": {},
   "outputs": [
    {
     "name": "stdout",
     "output_type": "stream",
     "text": [
      "['hello', 'My', 'Friend']\n"
     ]
    }
   ],
   "source": [
    "import re\n",
    "\n",
    "txt = input()\n",
    "pattern = r\"(?=[A-Z])\"\n",
    "x = re.split(pattern, txt)\n",
    "print(x)"
   ]
  },
  {
   "cell_type": "code",
   "execution_count": 44,
   "metadata": {},
   "outputs": [
    {
     "name": "stdout",
     "output_type": "stream",
     "text": [
      "HEllo_My_FRiend\n"
     ]
    }
   ],
   "source": [
    "import re \n",
    "\n",
    "txt = input()\n",
    "pattern = r\"(?<=[a-z])(?=[A-Z])\"\n",
    "words = re.split(pattern, txt)\n",
    "words = [word for word in words if word]\n",
    "result = '_'.join(word for word in words)\n",
    "print(result)"
   ]
  }
 ],
 "metadata": {
  "kernelspec": {
   "display_name": "Python 3",
   "language": "python",
   "name": "python3"
  },
  "language_info": {
   "codemirror_mode": {
    "name": "ipython",
    "version": 3
   },
   "file_extension": ".py",
   "mimetype": "text/x-python",
   "name": "python",
   "nbconvert_exporter": "python",
   "pygments_lexer": "ipython3",
   "version": "3.13.0"
  }
 },
 "nbformat": 4,
 "nbformat_minor": 2
}
